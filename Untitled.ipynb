{
 "cells": [
  {
   "cell_type": "code",
   "execution_count": 5,
   "metadata": {},
   "outputs": [
    {
     "name": "stdout",
     "output_type": "stream",
     "text": [
      "L: None\n",
      "1\n",
      "R: L: None\n",
      "2\n",
      "R: L: None\n",
      "3\n",
      "R: None\n"
     ]
    }
   ],
   "source": [
    "class Node:\n",
    "    def __init__(self, value):\n",
    "        super().__init__()\n",
    "        self.value = str(value)\n",
    "        self.left = None\n",
    "        self.right = None\n",
    "\n",
    "def minimal_tree(lst):\n",
    "    \"\"\" This algorithm seems to work ok, if I could figure out a way to print it properly.\n",
    "    \"\"\"\n",
    "    if len(lst) == 0:\n",
    "        return None\n",
    "    if len(lst) == 1:\n",
    "        return Node(lst[0])\n",
    "    left = lst[0:len(lst)//2-1]\n",
    "    right = lst[len(lst)//2:]\n",
    "    # print(left, right)\n",
    "    node = Node(lst[len(lst)//2-1])\n",
    "    # print(node.value)\n",
    "    node.left = minimal_tree(left)\n",
    "    node.right = minimal_tree(right)\n",
    "    return node\n",
    "\n",
    "def in_order(node):\n",
    "    \"\"\" Print the tree in-order. \"\"\"\n",
    "    if node:\n",
    "        print(\"L: \", end=\"\")\n",
    "        in_order(node.left)\n",
    "        print(node.value)\n",
    "        print(\"R: \", end=\"\")\n",
    "        in_order(node.right)\n",
    "    else:\n",
    "        print(\"None\")\n",
    "\n",
    "def pre_order(node):\n",
    "    \"\"\" Print the tree in pre-order. \"\"\"\n",
    "    if node:\n",
    "        print(\"L: \", end=\"\")\n",
    "        in_order(node.left)\n",
    "        print(node.value)\n",
    "        print(\"R: \", end=\"\")\n",
    "        in_order(node.right)\n",
    "    else:\n",
    "        print(\"None\")\n",
    "\n",
    "# root = minimal_tree([1,2,3,4,5,6,7,8,9,10])\n",
    "root = minimal_tree([1,2,3])\n",
    "in_order(root)\n"
   ]
  },
  {
   "cell_type": "code",
   "execution_count": null,
   "metadata": {},
   "outputs": [],
   "source": []
  }
 ],
 "metadata": {
  "kernelspec": {
   "display_name": "Python 3",
   "language": "python",
   "name": "python3"
  },
  "language_info": {
   "codemirror_mode": {
    "name": "ipython",
    "version": 3
   },
   "file_extension": ".py",
   "mimetype": "text/x-python",
   "name": "python",
   "nbconvert_exporter": "python",
   "pygments_lexer": "ipython3",
   "version": "3.7.5"
  }
 },
 "nbformat": 4,
 "nbformat_minor": 4
}
